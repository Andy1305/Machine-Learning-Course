{
  "nbformat": 4,
  "nbformat_minor": 0,
  "metadata": {
    "colab": {
      "name": "Tema 2 Finala MLCI.ipynb",
      "provenance": [],
      "collapsed_sections": []
    },
    "kernelspec": {
      "name": "python3",
      "display_name": "Python 3"
    }
  },
  "cells": [
    {
      "cell_type": "code",
      "metadata": {
        "id": "D-YvJsQLh-aA"
      },
      "source": [
        "import pandas as pd\n",
        "import numpy as np\n",
        "from sklearn.linear_model import LinearRegression, Ridge, Lasso, ElasticNet\n",
        "from sklearn.ensemble import RandomForestRegressor\n",
        "from sklearn.tree import DecisionTreeRegressor\n",
        "from sklearn.preprocessing import StandardScaler\n",
        "from sklearn.model_selection import train_test_split, cross_val_score, GridSearchCV\n",
        "from sklearn.metrics import mean_squared_error, r2_score"
      ],
      "execution_count": 102,
      "outputs": []
    },
    {
      "cell_type": "code",
      "metadata": {
        "id": "EPJGWDT9iDzJ"
      },
      "source": [
        "# load the parsed dataset\n",
        "df = pd.read_csv('ames_final.csv')"
      ],
      "execution_count": 82,
      "outputs": []
    },
    {
      "cell_type": "code",
      "metadata": {
        "id": "CuUJDjLck_0G"
      },
      "source": [
        "# train test split, cross validation is also used for all of the models\n",
        "X = df.drop(['saleprice'], axis = 1)\n",
        "y = df['saleprice']\n",
        "xtrain, xtest, ytrain, ytest = train_test_split(X, y, test_size = 0.3, random_state = 21)"
      ],
      "execution_count": 83,
      "outputs": []
    },
    {
      "cell_type": "code",
      "metadata": {
        "id": "46GovYdXoUqS"
      },
      "source": [
        "# Scale the features\n",
        "ss = StandardScaler()\n",
        "xtrain = ss.fit_transform(xtrain)\n",
        "xtest = ss.transform(xtest)"
      ],
      "execution_count": 84,
      "outputs": []
    },
    {
      "cell_type": "code",
      "metadata": {
        "colab": {
          "base_uri": "https://localhost:8080/"
        },
        "id": "bC28YwX0oDeF",
        "outputId": "72927f1a-10b2-4227-c53e-26f568a9c800"
      },
      "source": [
        "# Simple LR\n",
        "lr = LinearRegression(n_jobs = -1)\n",
        "lr.fit(xtrain, ytrain)\n",
        "print(lr.score(xtrain, ytrain))\n",
        "print(lr.score(xtest, ytest))\n",
        "print(-cross_val_score(estimator = lr, X = X, y = y, cv = 6, scoring = 'neg_mean_squared_error').mean())\n",
        "print(mean_squared_error(ytest, lr.predict(xtest), squared = False))"
      ],
      "execution_count": 99,
      "outputs": [
        {
          "output_type": "stream",
          "text": [
            "0.9431963248510259\n",
            "-2.0036693317325955e+19\n",
            "0.017720348662745092\n",
            "1740687029.433621\n"
          ],
          "name": "stdout"
        }
      ]
    },
    {
      "cell_type": "code",
      "metadata": {
        "colab": {
          "base_uri": "https://localhost:8080/"
        },
        "id": "gvCs43a6lAkF",
        "outputId": "c093baf2-9c6d-4b3d-8e6e-c96f024b961e"
      },
      "source": [
        "ridge = GridSearchCV(Ridge(), param_grid = {'alpha': np.logspace(0, 5, 200), 'random_state' : [21]}, cv = 6)\n",
        "ridge.fit(xtrain, ytrain)\n",
        "be = ridge.best_estimator_\n",
        "print(r2_score(ytrain, be.predict(xtrain)))\n",
        "print(r2_score(ytest, be.predict(xtest)))\n",
        "print(mean_squared_error(ytest, be.predict(xtest), squared = False))"
      ],
      "execution_count": 266,
      "outputs": [
        {
          "output_type": "stream",
          "text": [
            "0.9305391774259058\n",
            "0.8978160255120027\n",
            "0.12430799542836869\n"
          ],
          "name": "stdout"
        }
      ]
    },
    {
      "cell_type": "code",
      "metadata": {
        "colab": {
          "base_uri": "https://localhost:8080/"
        },
        "id": "sjHLM4hUlEnq",
        "outputId": "dd407a47-545e-4e0f-aabf-508bc651c828"
      },
      "source": [
        "lasso_params = {'alpha' : np.arange(0.001, 1.0, 0.005), 'random_state': [21]}\n",
        "lasso = GridSearchCV(Lasso(), param_grid = lasso_params, cv = 6)\n",
        "lasso.fit(xtrain, ytrain)\n",
        "be = lasso.best_estimator_\n",
        "print(r2_score(ytrain, be.predict(xtrain)))\n",
        "print(r2_score(ytest, be.predict(xtest)))\n",
        "print(mean_squared_error(ytest, be.predict(xtest), squared = False))"
      ],
      "execution_count": 265,
      "outputs": [
        {
          "output_type": "stream",
          "text": [
            "0.9245079816017954\n",
            "0.8973942133992465\n",
            "0.12456430087032995\n"
          ],
          "name": "stdout"
        }
      ]
    },
    {
      "cell_type": "code",
      "metadata": {
        "colab": {
          "base_uri": "https://localhost:8080/"
        },
        "id": "P_yDxn5PqSzB",
        "outputId": "f07bdb4e-67e9-4178-801b-c53cb93ce674"
      },
      "source": [
        "eln_params = {'alpha': np.arange(0.01, 10.0, 0.05), 'l1_ratio': np.arange(0.01, 1.0, 0.05)}\n",
        "eln = GridSearchCV(ElasticNet(), param_grid = eln_params, cv = 6)\n",
        "eln.fit(xtrain, ytrain)\n",
        "be = eln.best_estimator_\n",
        "print(r2_score(ytrain, be.predict(xtrain)))\n",
        "print(r2_score(ytest, be.predict(xtest)))\n",
        "print(mean_squared_error(ytest, be.predict(xtest), squared = False))"
      ],
      "execution_count": 264,
      "outputs": [
        {
          "output_type": "stream",
          "text": [
            "0.9254875259545158\n",
            "0.897997494527861\n",
            "0.12419756679292387\n"
          ],
          "name": "stdout"
        }
      ]
    },
    {
      "cell_type": "code",
      "metadata": {
        "colab": {
          "base_uri": "https://localhost:8080/"
        },
        "id": "nr9-HpesOQXA",
        "outputId": "a57322a7-2b37-4d47-d935-3bcad53467b9"
      },
      "source": [
        "rfr = RandomForestRegressor(n_estimators = 5000, random_state = 21)\n",
        "rfr.fit(xtrain, ytrain)\n",
        "print(r2_score(ytrain, rfr.predict(xtrain)))\n",
        "print(r2_score(ytest, rfr.predict(xtest)))\n",
        "print(mean_squared_error(ytest, rfr.predict(xtest), squared = False))"
      ],
      "execution_count": 263,
      "outputs": [
        {
          "output_type": "stream",
          "text": [
            "0.9819349372413865\n",
            "0.8636311093824526\n",
            "0.14360359805926334\n"
          ],
          "name": "stdout"
        }
      ]
    },
    {
      "cell_type": "code",
      "metadata": {
        "colab": {
          "base_uri": "https://localhost:8080/"
        },
        "id": "crZFoML6P3Qg",
        "outputId": "c5575dc9-a282-4e58-baa0-89ebae0720ae"
      },
      "source": [
        "dtr = DecisionTreeRegressor(random_state = 21)\n",
        "dtr.fit(xtrain, ytrain)\n",
        "print(r2_score(ytrain, dtr.predict(xtrain)))\n",
        "print(r2_score(ytest, dtr.predict(xtest)))\n",
        "print(mean_squared_error(ytest, dtr.predict(xtest), squared = False))"
      ],
      "execution_count": 121,
      "outputs": [
        {
          "output_type": "stream",
          "text": [
            "0.9999999971466298\n",
            "0.7495706858420178\n",
            "0.19460332207342146\n"
          ],
          "name": "stdout"
        }
      ]
    }
  ]
}