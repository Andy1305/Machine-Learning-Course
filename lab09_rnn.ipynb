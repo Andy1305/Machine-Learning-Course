{
  "nbformat": 4,
  "nbformat_minor": 0,
  "metadata": {
    "kernelspec": {
      "display_name": "Python 3",
      "language": "python",
      "name": "python3"
    },
    "language_info": {
      "codemirror_mode": {
        "name": "ipython",
        "version": 3
      },
      "file_extension": ".py",
      "mimetype": "text/x-python",
      "name": "python",
      "nbconvert_exporter": "python",
      "pygments_lexer": "ipython3",
      "version": "3.7.9"
    },
    "colab": {
      "provenance": [],
      "collapsed_sections": [],
      "toc_visible": true
    }
  },
  "cells": [
    {
      "cell_type": "markdown",
      "metadata": {
        "id": "PmqwlZQFuEMK"
      },
      "source": [
        "# Laboratory 09 -  Long Term Short Term Neural Networks\n",
        "\n",
        "While CNN's are a special type of feed-forward network that is able to capture spatial dependencies in our input, many real-world problems have inputs with dependencies that are spread across time. That is, the data is (or can be) logically organized as a sequence or in time steps. Just like CNN's are able to capture spatial dependencies, recurrent neural networks (or simply RNN's) are able capture sequence dependencies.  \n",
        "\n",
        "One type of sequence problem that is of special interest to financial computing, is forecasting. And among the forecasting problems, stock price prediction is one of most difficult and fun. We previously attempted this problem in our very first lab, obtaining surprisingly good results. However, those results were extremely misleading in that they were strongly dependent on the specific stock trend and the choice of hyper-parameters. In this lab we're going to tackle the problem again. But this time we're going to bring in the big guns. :) That is, we're going to use an LSTM recurrent neural network in a sequence to vector configuration. \n",
        "\n",
        "Without further ado here are the imports you we'll need:"
      ]
    },
    {
      "cell_type": "code",
      "metadata": {
        "colab": {
          "base_uri": "https://localhost:8080/"
        },
        "id": "NfpyuRYKuEMM",
        "outputId": "51388494-b05c-4d81-eb50-d397fc85e1c8"
      },
      "source": [
        "import matplotlib.pyplot as plt\n",
        "plt.style.use('ggplot')\n",
        "%matplotlib inline\n",
        "!pip install yfinance\n",
        "import numpy as np\n",
        "import yfinance as yf \n",
        "import pandas as pd \n",
        "from sklearn.preprocessing import MinMaxScaler\n",
        "\n",
        "import torch\n",
        "from torch import nn\n",
        "import torch.nn.functional as F\n",
        "\n",
        "import helper\n",
        "\n",
        "device = torch.device(\"cuda:0\" if torch.cuda.is_available() else \"cpu\")"
      ],
      "execution_count": null,
      "outputs": [
        {
          "output_type": "stream",
          "text": [
            "Requirement already satisfied: yfinance in /usr/local/lib/python3.6/dist-packages (0.1.55)\n",
            "Requirement already satisfied: multitasking>=0.0.7 in /usr/local/lib/python3.6/dist-packages (from yfinance) (0.0.9)\n",
            "Requirement already satisfied: lxml>=4.5.1 in /usr/local/lib/python3.6/dist-packages (from yfinance) (4.6.2)\n",
            "Requirement already satisfied: requests>=2.20 in /usr/local/lib/python3.6/dist-packages (from yfinance) (2.23.0)\n",
            "Requirement already satisfied: numpy>=1.15 in /usr/local/lib/python3.6/dist-packages (from yfinance) (1.19.5)\n",
            "Requirement already satisfied: pandas>=0.24 in /usr/local/lib/python3.6/dist-packages (from yfinance) (1.1.5)\n",
            "Requirement already satisfied: urllib3!=1.25.0,!=1.25.1,<1.26,>=1.21.1 in /usr/local/lib/python3.6/dist-packages (from requests>=2.20->yfinance) (1.24.3)\n",
            "Requirement already satisfied: idna<3,>=2.5 in /usr/local/lib/python3.6/dist-packages (from requests>=2.20->yfinance) (2.10)\n",
            "Requirement already satisfied: certifi>=2017.4.17 in /usr/local/lib/python3.6/dist-packages (from requests>=2.20->yfinance) (2020.12.5)\n",
            "Requirement already satisfied: chardet<4,>=3.0.2 in /usr/local/lib/python3.6/dist-packages (from requests>=2.20->yfinance) (3.0.4)\n",
            "Requirement already satisfied: pytz>=2017.2 in /usr/local/lib/python3.6/dist-packages (from pandas>=0.24->yfinance) (2018.9)\n",
            "Requirement already satisfied: python-dateutil>=2.7.3 in /usr/local/lib/python3.6/dist-packages (from pandas>=0.24->yfinance) (2.8.1)\n",
            "Requirement already satisfied: six>=1.5 in /usr/local/lib/python3.6/dist-packages (from python-dateutil>=2.7.3->pandas>=0.24->yfinance) (1.15.0)\n"
          ],
          "name": "stdout"
        }
      ]
    },
    {
      "cell_type": "markdown",
      "metadata": {
        "id": "bUwM0kqquEMN"
      },
      "source": [
        "### Exercise 1\n",
        "\n",
        "First thing, first. We need data to work with. So, for comparison purpose we can use the same data as in the first lab, namely: historical data for Microchip Corp. Complete the TODO's below to get and view the day by day stock closing price for the 'MCHP' ticker from 2010-01-01 to 2021-01-01 using `yfinance` API."
      ]
    },
    {
      "cell_type": "code",
      "metadata": {
        "colab": {
          "base_uri": "https://localhost:8080/",
          "height": 299
        },
        "id": "wYodrI5DuEMN",
        "outputId": "162bb617-c014-4eb6-d60a-2f5036ad5e56"
      },
      "source": [
        "# TODO 1.1: Get stock information\n",
        "stock = yf.Ticker('MCHP')\n",
        "\n",
        "# TODO 1.2: Get the close day prices from 2010-01-01 until 2021-01-01\n",
        "mchp = stock.history(start=\"2010-01-01\",  end=\"2021-01-01\", interval='1d')['Close']\n",
        "print(mchp.shape)\n",
        "# TODO 1.3: Plot the colse price trend\n",
        "plt.plot(mchp)"
      ],
      "execution_count": null,
      "outputs": [
        {
          "output_type": "stream",
          "text": [
            "(2769,)\n"
          ],
          "name": "stdout"
        },
        {
          "output_type": "execute_result",
          "data": {
            "text/plain": [
              "[<matplotlib.lines.Line2D at 0x7f07a6adbb38>]"
            ]
          },
          "metadata": {
            "tags": []
          },
          "execution_count": 55
        },
        {
          "output_type": "display_data",
          "data": {
            "image/png": "[encoded data removed]",
            "text/plain": [
              "<Figure size 432x288 with 1 Axes>"
            ]
          },
          "metadata": {
            "tags": [],
            "needs_background": "light"
          }
        }
      ]
    },
    {
      "cell_type": "markdown",
      "metadata": {
        "id": "RQRbD74juEMO"
      },
      "source": [
        "As usual, to make the neural network training more stable we need to normlize our data. Use a `MinMaxScaler` to bring the data in the range \\[ 0, 1\\]."
      ]
    },
    {
      "cell_type": "code",
      "metadata": {
        "colab": {
          "base_uri": "https://localhost:8080/",
          "height": 500
        },
        "id": "0inSlRGiuEMO",
        "outputId": "9896d7e5-cba7-4659-a008-149f78c3f2cf"
      },
      "source": [
        "# TODO 1.4: instantiate a standard MinMax scaller\n",
        "scaler = MinMaxScaler()\n",
        "\n",
        "# TODO 1.5: Scale the close prices and save them as a numpy array\n",
        "mchp_normalized = scaler.fit_transform(mchp.values.reshape(-1, 1))\n",
        "\n",
        "\n",
        "# Ploting the scaled trend (it should be between 0 and 1)\n",
        "plt.figure(figsize=(16, 8))\n",
        "plt.plot(mchp_normalized)\n"
      ],
      "execution_count": null,
      "outputs": [
        {
          "output_type": "execute_result",
          "data": {
            "text/plain": [
              "[<matplotlib.lines.Line2D at 0x7f07a6eb35f8>]"
            ]
          },
          "metadata": {
            "tags": []
          },
          "execution_count": 49
        },
        {
          "output_type": "display_data",
          "data": {
            "image/png": "[encoded data removed]",
            "text/plain": [
              "<Figure size 1152x576 with 1 Axes>"
            ]
          },
          "metadata": {
            "tags": [],
            "needs_background": "light"
          }
        }
      ]
    },
    {
      "cell_type": "markdown",
      "metadata": {
        "id": "7YPDmLn_uEMP"
      },
      "source": [
        "### Exercise 2\n",
        "\n",
        "Similarly to the Character-Level LSTM from the class notebooks, you need to transform the data such that it is organized in mini-batches of proper sequences length.  Moreover, the data must be split at least in train and test sets such that the training-validation loop can be implemented.\n",
        "\n",
        "Different from the Character-Level LSTM, here we want to forecast the stock prices for each day, a number of days in the future. To create the proper sequences, we need to use a sliding window of sequence length + 1 such that we can generate both features and targets. For example, setting up the forecast period to 30 days out, means that our feature sequence length is 30 days, while our target is the value from day 31. Hence, the sliding window size is 31 in this example.\n",
        "\n",
        "After parsing the data in this way, you can simply truncate and reshape the features and targets to obtain batches of specified sequence length. In turn, these can then be passed to a train/test split function such that we can use our data in the training loop.\n",
        "\n",
        "Follow the TODO's below to complete this task."
      ]
    },
    {
      "cell_type": "code",
      "metadata": {
        "id": "m8zn8uluuEMQ"
      },
      "source": [
        "# TODO 2.1: Implement make_batches to generate batches of specified size and sequence length\n",
        "# Doesn't work, cause of teacher's implementation (and data changed).\n",
        "def make_batches(data, batch_size, seq_len):\n",
        "    # TODO 2.1.1: Make sequences of length window_size\n",
        "    print(data.shape)\n",
        "    window_size = seq_len + 1\n",
        "    #seq_data = np.array_split(data, (len(data) // window_size) + 1)\n",
        "    seq_data = []\n",
        "    j = 0\n",
        "    while True:\n",
        "      seq_data.append(data[j:j + window_size])\n",
        "      j += window_size\n",
        "      if j > len(data):\n",
        "        break\n",
        "    \n",
        "    #seq_data = seq_data.reshape(90, -1)\n",
        "    #seq_data = [seq_data[i,0].squeeze()[0] for i in range(len(seq_data))]\n",
        "    #print(len(seq_data[0]))\n",
        "\n",
        "    # TODO 2.1.2: Select features (nseq, seq_len, nfeatures) and targets (nseq, 1) for each sequence\n",
        "    x = [seq[:seq_len] for seq in seq_data]\n",
        "    y = [seq[-1] for seq in seq_data]\n",
        "\n",
        "    # TODO 2.1.3: Compute the total number of batches\n",
        "    n_batches = len(data) // batch_size\n",
        "    \n",
        "    # TODO 2.1.4: Keep only enough points to make full batches for x, y\n",
        "    points_to_remove = len(data) - (n_batches * batch_size)\n",
        "    print(points_to_remove)\n",
        "    # 1 point to remove only\n",
        "    x[-1] = x[-1][:-points_to_remove]\n",
        "    y = y\n",
        "\n",
        "    print(len(x[0]))\n",
        "   \n",
        "    # TODO 2.1.5: Reshape x, y in batch_size rows\n",
        "    x = np.reshape(x, (batch_size, -1)).T\n",
        "    y = np.reshape(y, (batch_size, -1)).T\n",
        "\n",
        "    return x, y\n",
        "\n",
        "# TEST CODE: This should pass without any error\n",
        "x, y = make_batches(mchp_normalized, 16, 30)\n",
        "assert(x.shape == (171, 16, 30, 1))\n",
        "assert(y.shape == ((171, 16, 1)))"
      ],
      "execution_count": null,
      "outputs": []
    },
    {
      "cell_type": "code",
      "metadata": {
        "id": "i8urxiDnuEMQ"
      },
      "source": [
        "# TODO 2.2: Implement train_test_split to generate batched train and test sets\n",
        "# Doesn't work, cause of teacher's implementation (and data changed).\n",
        "def train_test_split(x, y, test_size):\n",
        "    \n",
        "    # TODO 2.2.1: Set the total number of batches either from x or y shape\n",
        "    nbatches = x.shape[0]\n",
        "\n",
        "    # TODO 2.2.2: Compute training set size\n",
        "    train_size = int(np.floor((1 - test_size) * nbatches))\n",
        "    \n",
        "    # TODO 2.2.3: Compute training split index\n",
        "    indices = list(range(nbatches))\n",
        "    train_idx = indices[:train_size]\n",
        "\n",
        "    # TODO 2.2.4: Compute x_train, y_train and transform to tensors of type \"torch.Tensor\"\n",
        "    x_train = torch.tensor(x[train_idx])\n",
        "    y_train = torch.tensor(y[train_idx])\n",
        "    \n",
        "    # TODO 2.2.5: Aggeregate x_train, y_train as a list\n",
        "    trainset = np.concatenate(x_train, y_train, axis = 1)\n",
        "    \n",
        "     # TODO 2.2.6: Do the same for x_test, y_test and testset list\n",
        "    test_idx = indices[train_size:]\n",
        "    x_test = torch.tensor(x[test_idx])\n",
        "    y_test = torch.tensor(x[test_idx])\n",
        "    testset = np.concatenate(x_train, y_train, axis = 1)\n",
        "    \n",
        "    return trainset, testset\n",
        "\n",
        "# TEST CODE: This should pass without any error\n",
        "trainset, testset = train_test_split(x, y, 0.2)\n",
        "assert(len(trainset) == 2)\n",
        "assert(len(testset) == 2)\n",
        "assert(trainset[0].shape == torch.Size([137, 16, 30, 1]))\n",
        "assert(trainset[1].shape == torch.Size([137, 16, 1]))\n",
        "assert(testset[0].shape == torch.Size([34, 16, 30, 1]))\n",
        "assert(testset[1].shape == torch.Size([34, 16, 1]))"
      ],
      "execution_count": null,
      "outputs": []
    },
    {
      "cell_type": "markdown",
      "metadata": {
        "id": "PS6tfwZ9uEMR"
      },
      "source": [
        "### Exercise 3\n",
        "\n",
        "The next step is to build our LSTM based network architecture. As a reminder the [LSTM API](https://pytorch.org/docs/stable/generated/torch.nn.LSTM.html) in PyThorch `nn` module has a number of parameters, of which the most relevant are:\n",
        "- **input_size** represents the number of features in the input, i.e. input dimension\n",
        "- **hidden_size** represents the number of units in the hidden layer i.e. hidden dimension\n",
        "- **num_layers** represents the number recurrent layers\n",
        "- **batch_first** represent the format of the input data, if True the expected data must be formatted as (batch_size, seq_len, num_features)\n",
        "- **dropout** represents the dropout probability for dropout layers automatically introduced between LSTM layers. If set to zero no dropout is used.\n",
        "\n",
        "Aside from these, we still need a regression layer to take features generated by the LSTM and transform them to the desired output price prediction. Hence, we also need to specify the output dimension. Note that for our problem this will be 1, since we want to predict a single price for each input sequence.\n",
        "\n",
        "We also need to provide the initial hidden states, which are tensors with format `(num_layers, batch_size, hidden_size)`. So you will need to implement a hidden state initialization method to create the two tensors.\n",
        "\n",
        "Finally, you need to implement the `forward()` method such that the network will work as a sequence-to-vector architecture and it will only backprop up to the initial state for each batch (not through the entire history from batch to batch). The first is accomplished by simply selecting only the last recurrent output in the from the LSTM layer. Whereas the second can be accomplished in several ways. In the Character-Level LSTM from the class notebook, we have done this by always creating new variables for the hidden state. However there is a much easier way to do this, namely: using the [`detach()`](https://pytorch.org/docs/stable/autograd.html#torch.Tensor.detach) method. This method simply detaches the initial hidden states from the hole graph, making backpropagation through time treat them as constants. \n",
        "\n",
        "Follow the TODO's below to implement the network architecture."
      ]
    },
    {
      "cell_type": "code",
      "metadata": {
        "id": "vfYsq-DRuEMS"
      },
      "source": [
        "# TODO 3: Implement the LSTM network\n",
        "class Net(nn.Module):\n",
        "    def __init__(self, input_dim, hidden_dim, num_layers, output_dim, dropout_prob = 0.5):\n",
        "        super(Net, self).__init__()\n",
        "        # TODO 3.1: Save the internal attributes\n",
        "        self.hidden_dim = hidden_dim\n",
        "        self.num_layers = num_layers\n",
        "        \n",
        "        # TODO 3.2: Instantiate the lstm with dropout_prob and batch_first=True\n",
        "        self.lstm = nn.LSTM(input_size=input_dim, hidden_size=hidden_size, num_layers=num_layers, batch_first=True, dropout=dropout_prob)\n",
        "        \n",
        "        # TODO 3.3: Instantiate the linear readout layer\n",
        "        self.fc = nn.Linear(hidden_dim, output_dim)\n",
        "        \n",
        "        # TODO 3.4: Instantiate a dropout layer\n",
        "        self.dropout = nn.Dropout(drop_prob)\n",
        "    \n",
        "    def init_hidden(self, batch_size):\n",
        "        # TODO 3.5: Create initial zero long term (c0) and short term memory (h0) states\n",
        "        #       Do not forget to tell pytorch that these states require gradient computation        \n",
        "        h0 = torch.zeros((self.num_layers, batch_size, self.hidden_dim), requires_grad = True)\n",
        "        c0 = torch.zeros((self.num_layers, batch_size, self.hidden_dim), requres_grad = True)\n",
        "        \n",
        "        h0 = h0.to(device)\n",
        "        c0 = c0.to(device)\n",
        "        return h0, c0\n",
        "        \n",
        "    def forward(self, x):\n",
        "        # TODO 3.5: Create the initial memory states through init_hidden() and x.shape \n",
        "        h0, c0 = init_hidden()\n",
        "        \n",
        "        # TODO 3.6: Compute the recurrent output and hidden states.\n",
        "        # Note: We don't want to back-propagate the hidden state through the hole input history.\n",
        "        #       That is, you must BPTT upto the initial state for the current batch.\n",
        "        #       Thus, you must tell pytorch to treat the h0 and c0 as constants by using detach()\n",
        "        #       thereby truncating gradient computation upto the sequence length \n",
        "        r_out, (hn, cn) = self.lstm(ho, x)\n",
        "        \n",
        "        # TODO 3.7: We are intrested only in the single price prediction after sequnce length steps,\n",
        "        #       i.e. the type of the problem is seq-to-vector or many-to-one.\n",
        "        #       So, please select only the last outputs in the sequence for every point in the batch.\n",
        "        r_out = r_out[:, :, -1]\n",
        "        \n",
        "        # TODO 3.8: Now apply the dropout layer\n",
        "        out = self.dropout(r_out) \n",
        "        \n",
        "        # TODO 3.9: Readout the result through the linear layer\n",
        "        out = self.fc(out)\n",
        "        \n",
        "        return out"
      ],
      "execution_count": null,
      "outputs": []
    },
    {
      "cell_type": "markdown",
      "metadata": {
        "id": "wwfUQgPquEMU"
      },
      "source": [
        "### Exercise 4\n",
        "\n",
        "Finally its time for train our network. This will be no different from the usual implementation you are already used to. Here are the definitions of hyper-parameters:"
      ]
    },
    {
      "cell_type": "code",
      "metadata": {
        "id": "IZPY9pGsuEMU"
      },
      "source": [
        "batch_size = 64 # the mini-batch size\n",
        "seq_len = 14 # the sequence length -> setting forecast period\n",
        "learning_rate = 0.0002 # training loop learning rate\n",
        "test_size = 0.1 # the percentage of data to be used for testing\n",
        "\n",
        "input_dim = 1 # the number of features in the input, here we have only one value\n",
        "hidden_dim = 200 # the size of the hidden layer\n",
        "num_layers = 2 # the number of reccurent layers\n",
        "output_dim = 1 # the size of the output, here we have only one value -> the price\n",
        "dropout_prob = 0.3 # dropout probability "
      ],
      "execution_count": null,
      "outputs": []
    },
    {
      "cell_type": "markdown",
      "metadata": {
        "id": "63WwgZCEuEMV"
      },
      "source": [
        "Now the first thing you will have to do is create the necessary components for training:\n",
        "- generate batches of specified sequence length\n",
        "- generate training and test sets\n",
        "- instantiate the model, criterion and optimizer\n",
        "\n",
        "Recall, that this is a regression problem so the criterion is MSE loss, whereas for the optimizer you can still use Adam."
      ]
    },
    {
      "cell_type": "code",
      "metadata": {
        "id": "Mir77096uEMV"
      },
      "source": [
        "# TODO 4.1: Make the bacthes out of the normalized data\n",
        "x, y = make_batches(mchp_normalized, batch_size, seq_len)\n",
        "\n",
        "# TODO 4.2: Create the train/test sets\n",
        "trainset, testset = train_test_split(x, y, test_size)\n",
        "\n",
        "# TODO 4.3: Instantiate your model and move it to the appropiate device\n",
        "model = Net(input_dim, hidden_dim, num_layers, output_dim, dropout_prob)\n",
        "\n",
        "# TODO 4.4: Instantiate the mean squared error loss\n",
        "criterion = nn.MSELoss()\n",
        "\n",
        "# TODO 4.5: Instantiate an Adam optimizer\n",
        "optimizer = torch.optim.Adam(model.parameters(), lr=learning_rate)"
      ],
      "execution_count": null,
      "outputs": []
    },
    {
      "cell_type": "markdown",
      "metadata": {
        "id": "03nZqgmxuEMV"
      },
      "source": [
        "Finally, implement the training/validation loop guts to see results you'll get.\n",
        "\n",
        "**I bet your in for a treat!**"
      ]
    },
    {
      "cell_type": "code",
      "metadata": {
        "scrolled": true,
        "id": "dbHoFgnwuEMV"
      },
      "source": [
        "epochs = 500\n",
        "counter = 0\n",
        "\n",
        "x_train = trainset[0]\n",
        "y_train = trainset[1]\n",
        "\n",
        "x_valid = testset[0]\n",
        "y_valid = testset[1]\n",
        "\n",
        "trainset_len = x_train.shape[0]*x_train.shape[1]\n",
        "validset_len = x_valid.shape[0]*x_valid.shape[1]\n",
        "\n",
        "valid_loss_min = np.Inf\n",
        "\n",
        "for epoch in range(epochs):\n",
        "    train_loss = 0\n",
        "    for data, target in zip(x_train, y_train):\n",
        "        counter += 1\n",
        "        # TODO 4.6: Move the data and targets to the appropiate device\n",
        "        data, target = torch.from_numpy(data).to(device), torch.from_numpy(target).to(device) \n",
        "    \n",
        "        # TODO 4.7: Zero out the gradient\n",
        "        net.zero_grad()\n",
        "        \n",
        "        # TODO 4.8: Compute the output\n",
        "        output = net(data)\n",
        "        \n",
        "        # TODO 4.9: Compute the loss\n",
        "        loss = criterion(output, target)\n",
        "        \n",
        "        # TODO 4.10: Compute the gradient\n",
        "        loss.backward()\n",
        "        \n",
        "        # TODO 4.11: Update the weights\n",
        "        opt.step()\n",
        "        \n",
        "        train_loss += loss.item()*batch_size\n",
        "    \n",
        "    valid_loss = 0\n",
        "    model.eval()\n",
        "    # TODO 4.12: Implement the validation loop\n",
        "    with torch.no_grad():\n",
        "        for data, target in zip(x_valid, y_valid):\n",
        "            data, target = torch.from_numpy(data).to(device), torch.from_numpy(target).to(device)\n",
        "            output = net(data)\n",
        "            loss = criterion(output, target)\n",
        "            valid_loss += loss.item() * batch_size\n",
        "    model.train()\n",
        "\n",
        "    train_loss = train_loss / trainset_len\n",
        "    valid_loss = valid_loss / validset_len\n",
        "    \n",
        "    if valid_loss <= valid_loss_min:\n",
        "            helper.save_model(model, 'chepoint.pth')\n",
        "            valid_loss_min = valid_loss\n",
        "            \n",
        "    print(\"Epoch: {}/{}.. \".format(epoch + 1, epochs),\n",
        "          \"Step: {}...\".format(counter),\n",
        "          \"Training Loss: {:.5f}.. \".format(train_loss),\n",
        "          \"Validation Loss: {:.5f}.. \".format(valid_loss))"
      ],
      "execution_count": null,
      "outputs": []
    },
    {
      "cell_type": "code",
      "metadata": {
        "id": "UZrwVlQCuEMW"
      },
      "source": [
        "# Getting targets and the predictions for the entire dataset (trainset + testset)\n",
        "model = helper.load_model(model,'chepoint.pth')\n",
        "model.to(device)\n",
        "x_all_seq = torch.from_numpy(x.reshape((-1, seq_len, 1)),).type(torch.Tensor).to(device)\n",
        "y_all_targets = y.reshape((-1, 1))\n",
        "y_all_pred = model(x_all_seq).cpu()\n",
        "y_all_pred = y_all_pred.detach().numpy()"
      ],
      "execution_count": null,
      "outputs": []
    },
    {
      "cell_type": "code",
      "metadata": {
        "id": "kobioS7_uEMW"
      },
      "source": [
        "# Plotting the target and the predicted trends\n",
        "plt.figure(figsize=(20, 10))\n",
        "plt.plot(y_all_pred, label=\"Predictions\")\n",
        "plt.plot(y_all_targets, label=\"Targets\")\n",
        "plt.legend()\n",
        "plt.show()"
      ],
      "execution_count": null,
      "outputs": []
    },
    {
      "cell_type": "markdown",
      "metadata": {
        "id": "Zeb4pJ5JuEMW"
      },
      "source": [
        "## **Disclaimer**"
      ]
    },
    {
      "cell_type": "markdown",
      "metadata": {
        "id": "muLAjgryuEMW"
      },
      "source": [
        "**This is lab is not meant to be used to make real world investments. While the results may seem exceptional, there are several reasons because of which this model will not work well. Some of them were deliberately and explicitly introduced in the code for this lab. What are they?**"
      ]
    },
    {
      "cell_type": "markdown",
      "metadata": {
        "id": "26jiP25wOAw7"
      },
      "source": [
        "In reality the stock prices are dependent on a lot more variables. Here, only the history closing price is taken into account, which is not really a reliable pattern. The price might drop fast if something would happen with the CEO of the company, for example."
      ]
    }
  ]
}